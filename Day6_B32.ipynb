{
 "cells": [
  {
   "cell_type": "code",
   "execution_count": 3,
   "metadata": {},
   "outputs": [
    {
     "name": "stdout",
     "output_type": "stream",
     "text": [
      "['vihaan', 'anish', 'honey', 'pinky', 'manya', 'kaasvi']\n"
     ]
    }
   ],
   "source": [
    "kids=['vihaan','anish','honey','pinky','manya','kaasvi']\n",
    "print(kids)"
   ]
  },
  {
   "cell_type": "code",
   "execution_count": 4,
   "metadata": {},
   "outputs": [
    {
     "name": "stdout",
     "output_type": "stream",
     "text": [
      "Naughty kids,Vihaan\n"
     ]
    }
   ],
   "source": [
    "x=f\"Naughty kids,{kids[0].title()}\"\n",
    "print(x)"
   ]
  },
  {
   "cell_type": "code",
   "execution_count": 6,
   "metadata": {},
   "outputs": [],
   "source": [
    "x=(f'Naughty kid,{kids[1].title()}')"
   ]
  },
  {
   "cell_type": "code",
   "execution_count": 8,
   "metadata": {},
   "outputs": [
    {
     "name": "stdout",
     "output_type": "stream",
     "text": [
      "Naughty kid,Anish\n"
     ]
    }
   ],
   "source": [
    "print(x)"
   ]
  },
  {
   "cell_type": "code",
   "execution_count": 10,
   "metadata": {},
   "outputs": [
    {
     "name": "stdout",
     "output_type": "stream",
     "text": [
      "Super kid,Manya\n"
     ]
    }
   ],
   "source": [
    "x=f'Super kid,{kids[4].title()}'\n",
    "print(x)"
   ]
  },
  {
   "cell_type": "code",
   "execution_count": 13,
   "metadata": {},
   "outputs": [
    {
     "name": "stdout",
     "output_type": "stream",
     "text": [
      "Naughty kids,Vihaan\n",
      "Naughty kids,Anish\n",
      "Naughty kids,Honey\n",
      "Naughty kids,Pinky\n",
      "Naughty kids,Manya\n",
      "Naughty kids,Kaasvi\n"
     ]
    }
   ],
   "source": [
    "for x in kids:\n",
    "   print(f\"Naughty kids,{x.title()}\")"
   ]
  },
  {
   "cell_type": "code",
   "execution_count": 15,
   "metadata": {},
   "outputs": [
    {
     "name": "stdout",
     "output_type": "stream",
     "text": [
      "vihaan\n",
      "anish\n",
      "honey\n",
      "pinky\n",
      "manya\n",
      "kaasvi\n"
     ]
    }
   ],
   "source": [
    "for test in kids:\n",
    " print(test)"
   ]
  },
  {
   "cell_type": "code",
   "execution_count": 17,
   "metadata": {},
   "outputs": [
    {
     "name": "stdout",
     "output_type": "stream",
     "text": [
      "Vihaan\n",
      "Anish\n",
      "Honey\n",
      "Pinky\n",
      "Manya\n",
      "Kaasvi\n"
     ]
    }
   ],
   "source": [
    "for dora in kids:\n",
    "    print(dora.title())"
   ]
  },
  {
   "cell_type": "code",
   "execution_count": 20,
   "metadata": {},
   "outputs": [
    {
     "name": "stdout",
     "output_type": "stream",
     "text": [
      "Super kid, Vihaan\n",
      "Having fun, Vihaan\n",
      "Super kid, Anish\n",
      "Having fun, Anish\n",
      "Super kid, Honey\n",
      "Having fun, Honey\n",
      "Super kid, Pinky\n",
      "Having fun, Pinky\n",
      "Super kid, Manya\n",
      "Having fun, Manya\n",
      "Super kid, Kaasvi\n",
      "Having fun, Kaasvi\n"
     ]
    }
   ],
   "source": [
    "for x in kids:\n",
    "    print(f'Super kid, {x.title()}')\n",
    "    print(f'Having fun, {x.title()}')"
   ]
  },
  {
   "cell_type": "code",
   "execution_count": 22,
   "metadata": {},
   "outputs": [
    {
     "name": "stdout",
     "output_type": "stream",
     "text": [
      "Super kid, Vihaan\n",
      "Having fun, Vihaan\n",
      "\n",
      "Super kid, Anish\n",
      "Having fun, Anish\n",
      "\n",
      "Super kid, Honey\n",
      "Having fun, Honey\n",
      "\n",
      "Super kid, Pinky\n",
      "Having fun, Pinky\n",
      "\n",
      "Super kid, Manya\n",
      "Having fun, Manya\n",
      "\n",
      "Super kid, Kaasvi\n",
      "Having fun, Kaasvi\n",
      "\n"
     ]
    }
   ],
   "source": [
    "for x in kids:\n",
    "    print(f'Super kid, {x.title()}')\n",
    "    print(f'Having fun, {x.title()}\\n')"
   ]
  },
  {
   "cell_type": "code",
   "execution_count": 26,
   "metadata": {
    "scrolled": true
   },
   "outputs": [
    {
     "name": "stdout",
     "output_type": "stream",
     "text": [
      "Super kid, Vihaan\n",
      "Having fun, Vihaan\n",
      "\n",
      "Super kid, Anish\n",
      "Having fun, Anish\n",
      "\n",
      "Super kid, Honey\n",
      "Having fun, Honey\n",
      "\n",
      "Super kid, Pinky\n",
      "Having fun, Pinky\n",
      "\n",
      "Super kid, Manya\n",
      "Having fun, Manya\n",
      "\n",
      "Super kid, Kaasvi\n",
      "Having fun, Kaasvi\n",
      "\n",
      "\n",
      " Bye\n"
     ]
    }
   ],
   "source": [
    "for x in kids:\n",
    "    print(f'Super kid, {x.title()}')\n",
    "    print(f'Having fun, {x.title()}\\n')\n",
    "print(f'\\n Bye')"
   ]
  },
  {
   "cell_type": "code",
   "execution_count": null,
   "metadata": {},
   "outputs": [],
   "source": []
  },
  {
   "cell_type": "code",
   "execution_count": null,
   "metadata": {},
   "outputs": [],
   "source": []
  },
  {
   "cell_type": "code",
   "execution_count": null,
   "metadata": {},
   "outputs": [],
   "source": []
  },
  {
   "cell_type": "code",
   "execution_count": null,
   "metadata": {},
   "outputs": [],
   "source": []
  },
  {
   "cell_type": "code",
   "execution_count": null,
   "metadata": {},
   "outputs": [],
   "source": []
  }
 ],
 "metadata": {
  "kernelspec": {
   "display_name": "Python 3",
   "language": "python",
   "name": "python3"
  },
  "language_info": {
   "codemirror_mode": {
    "name": "ipython",
    "version": 3
   },
   "file_extension": ".py",
   "mimetype": "text/x-python",
   "name": "python",
   "nbconvert_exporter": "python",
   "pygments_lexer": "ipython3",
   "version": "3.8.5"
  }
 },
 "nbformat": 4,
 "nbformat_minor": 4
}
